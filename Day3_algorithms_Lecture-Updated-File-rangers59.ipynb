{
 "cells": [
  {
   "cell_type": "markdown",
   "metadata": {},
   "source": [
    "# Algorithms, Binary Search & Linked Lists"
   ]
  },
  {
   "cell_type": "markdown",
   "metadata": {},
   "source": [
    "## Tasks Today:\n",
    " \n",
    "1) <b>In-Place Algorithms</b> <br>\n",
    " &nbsp;&nbsp;&nbsp;&nbsp; a) Syntax <br>\n",
    " &nbsp;&nbsp;&nbsp;&nbsp; a) Out of Place Algorithm <br>\n",
    " &nbsp;&nbsp;&nbsp;&nbsp; b) In-Class Exercise #1 <br>\n",
    "2) <b>Two Pointers</b> <br>\n",
    "3) <b>Linked Lists</b> (didnt do today) <br>\n",
    "4) <b>Sorting Algorithms, Merge Sort and Binary Search</b> <br>\n",
    " &nbsp;&nbsp;&nbsp;&nbsp; a) Video on Algorithms <br>\n",
    " &nbsp;&nbsp;&nbsp;&nbsp; b) How it Works <br>\n",
    "5) <b>Exercises</b> <br>\n",
    " &nbsp;&nbsp;&nbsp;&nbsp; a) Exercise #1 - Reverse a List in Place Using an In-Place Algorithm <br>\n",
    " &nbsp;&nbsp;&nbsp;&nbsp; b) Exercise #2 - Find Distinct Words <br>\n",
    " &nbsp;&nbsp;&nbsp;&nbsp; c) Exercise #3 - Write a program to implement a Linear Search Algorithm. <br>"
   ]
  },
  {
   "cell_type": "markdown",
   "metadata": {},
   "source": [
    "## In-Place Algorithms"
   ]
  },
  {
   "cell_type": "markdown",
   "metadata": {},
   "source": [
    "#### Syntax"
   ]
  },
  {
   "cell_type": "code",
   "execution_count": 23,
   "metadata": {},
   "outputs": [
    {
     "name": "stdout",
     "output_type": "stream",
     "text": [
      "alist is ['Sam', 'Terrell', 'Eric', 'Erin']\n",
      "alist is now ['Erin', 'Terrell', 'Eric', 'Sam']\n"
     ]
    }
   ],
   "source": [
    "# benefits: not use extra memory\n",
    "# modify the original data and don't make any copies\n",
    "#did I modify my input data? if so, probably in place. if not, probably out-of-place\n",
    "\n",
    "# swapper\n",
    "# we want to swap the values at two indices in our list\n",
    "\n",
    "# the long in-place way, using placeholder variables.\n",
    "def swap1(alist,x,y):\n",
    "    valx = alist[x]\n",
    "    valy = alist[y]\n",
    "    alist[x] = valy\n",
    "    alist[y] = valx\n",
    "    return alist\n",
    "\n",
    "# the better in-place way\n",
    "def swap2(alist,x,y):\n",
    "    print(\"alist is\", alist)\n",
    "    alist[x],alist[y] = alist[y],alist[x]\n",
    "    print(\"alist is now\",alist)\n",
    "\n",
    "mylist= [\"Sam\", \"Terrell\",\"Eric\",\"Erin\"]\n",
    "swap2(mylist,0,3)"
   ]
  },
  {
   "cell_type": "markdown",
   "metadata": {},
   "source": [
    "#### Out of Place Algorithm"
   ]
  },
  {
   "cell_type": "code",
   "execution_count": 25,
   "metadata": {},
   "outputs": [
    {
     "name": "stdout",
     "output_type": "stream",
     "text": [
      "['Sam', 'Eric', 'Terrell', 'Erin']\n",
      "['Erin', 'Terrell', 'Eric', 'Sam']\n",
      "array is ['a', 'b', 'c', 'd']\n",
      "array is now ['a', 'b', 'c', 'd']\n",
      "new array is ['d', 'c', 'b', 'a']\n",
      "alist is ['Erin', 'Terrell', 'Eric', 'Sam']\n",
      "blist is ['Sam', 'Terrell', 'Eric', 'Erin']\n"
     ]
    }
   ],
   "source": [
    "# we maintain data integrity and don't modify our original data structure\n",
    "\n",
    "# reverse our list completely, but only temporarily\n",
    "mylistcopy = mylist[::-1]\n",
    "print(mylistcopy)\n",
    "print(mylist)\n",
    "\n",
    "array = [\"a\",\"b\",\"c\",\"d\"]\n",
    "#input: some array\n",
    "#output: a new array that is the input array in reverse\n",
    "def reverse(array):\n",
    "    print(\"array is\", array)\n",
    "    ans = []\n",
    "    for i in range(1, len(array)+1):\n",
    "        ans.append(array[-i])\n",
    "    print(\"array is now\", array)\n",
    "    print(\"new array is\", ans)\n",
    "    return ans\n",
    "        \n",
    "reverse(array)\n",
    "\n",
    "#swapper - out of place version\n",
    "def swap3(alist,x,y):\n",
    "    print(\"alist is\", alist)\n",
    "    blist = alist.copy() #creates a copy rather than referncing the memory\n",
    "    blist[x],blist[y] = blist[y],blist[x]\n",
    "    print(\"blist is\",blist)\n",
    "\n",
    "swap3(mylist,0,3)"
   ]
  },
  {
   "cell_type": "markdown",
   "metadata": {},
   "source": [
    "time complexity - thinking if input is infinite input\n",
    "easier to write a more time efficient code with out of place than in place algo"
   ]
  },
  {
   "cell_type": "markdown",
   "metadata": {},
   "source": [
    "#### In-Class Exercise #1 <br>\n",
    "<p>Write a function that takes in four arguments (list, index1, index2, index3), and swaps those three positions in the list passed in.</p>"
   ]
  },
  {
   "cell_type": "code",
   "execution_count": 30,
   "metadata": {},
   "outputs": [
    {
     "name": "stdout",
     "output_type": "stream",
     "text": [
      "the list is [10, 4, 3, 8, 4, 2, 6]\n",
      "the list is now [4, 6, 3, 8, 4, 2, 10]\n",
      "the list is now [6, 10, 3, 8, 4, 2, 4]\n",
      "the list is now [10, 4, 3, 8, 4, 2, 6]\n"
     ]
    },
    {
     "data": {
      "text/plain": [
       "[10, 4, 3, 8, 4, 2, 6]"
      ]
     },
     "execution_count": 30,
     "metadata": {},
     "output_type": "execute_result"
    }
   ],
   "source": [
    "l_1 = [10, 4, 3, 8, 4, 2, 6]\n",
    "print(\"the list is\",l_1)\n",
    "\n",
    "def swap4(the_list,ind1,ind2,ind3):\n",
    "    the_list[ind1],the_list[ind2],the_list[ind3] = the_list[ind2],the_list[ind3],the_list[ind1]\n",
    "    print(\"the list is now\", the_list)\n",
    "    return the_list\n",
    "\n",
    "swap4(l_1, 0,1,-1)\n",
    "swap4(l_1, 0,1,-1)\n",
    "swap4(l_1, 0,1,-1)"
   ]
  },
  {
   "cell_type": "markdown",
   "metadata": {},
   "source": [
    "## Two Pointers"
   ]
  },
  {
   "cell_type": "markdown",
   "metadata": {},
   "source": [
    "#### Syntax"
   ]
  },
  {
   "cell_type": "code",
   "execution_count": null,
   "metadata": {},
   "outputs": [],
   "source": [
    "# 3 additional variables commonly used to keep track of something while looping\n",
    "\n",
    "# flag - boolean that controls a loop (usually a while loop) based off a certain condition\n",
    "flag = True\n",
    "while flag:\n",
    "    if a_condition:\n",
    "        flag = False: #determines whether the while loop will continue\n",
    "            \n",
    "# counter\n",
    "i = 0\n",
    "while i < 10:\n",
    "    i += 1\n",
    "\n",
    "# pointer\n",
    "n = 0\n",
    "while n < len(l_1):\n",
    "    print(l_1[n])\n",
    "    n+=1"
   ]
  },
  {
   "cell_type": "code",
   "execution_count": 33,
   "metadata": {},
   "outputs": [
    {
     "data": {
      "text/plain": [
       "[3]"
      ]
     },
     "execution_count": 33,
     "metadata": {},
     "output_type": "execute_result"
    }
   ],
   "source": [
    "litty = [10, 4, 3, 8, 4, 2, 6]\n",
    "\n",
    "#removing in place even numbers\n",
    "\n",
    "def deleven(listt):\n",
    " #   for i in listt: (will be O(n^2), since for is O(n) and remove is O(n))\n",
    "  #      if i%2==0:\n",
    "  #          listt.remove(i) #removes item and shifts everything -- O(n)\n",
    "\n",
    "    i=0\n",
    "    while i < len(listt):\n",
    "        if listt[i]%2==0:\n",
    "            listt.remove(listt[i])\n",
    "        else:\n",
    "            i+=1\n",
    "    return(listt)\n",
    "\n",
    "deleven(litty)"
   ]
  },
  {
   "cell_type": "markdown",
   "metadata": {},
   "source": [
    "#### Video of Algorithms <br>\n",
    "<p>Watch the video about algorithms.</p>\n",
    "\n",
    "https://www.youtube.com/watch?v=Q9HjeFD62Uk\n",
    "\n",
    "https://www.youtube.com/watch?v=kPRA0W1kECg\n",
    "\n",
    "https://www.youtube.com/watch?v=ZZuD6iUe3Pc"
   ]
  },
  {
   "cell_type": "code",
   "execution_count": 37,
   "metadata": {},
   "outputs": [
    {
     "data": {
      "text/plain": [
       "[7, 6, 5, 4, 3, 2, 1]"
      ]
     },
     "execution_count": 37,
     "metadata": {},
     "output_type": "execute_result"
    }
   ],
   "source": [
    "#Using two pointers\n",
    "#reversing a list by, in place by using pointers\n",
    "#alist[left],alist[right] = alist[right],alist[left]\n",
    "\n",
    "def twoPointers(alist):\n",
    "    left = 0\n",
    "    right = len(alist)-1\n",
    "    while left < right:\n",
    "        alist[left], alist[right] = alist[right],alist[left]\n",
    "        left += 1\n",
    "        right -= 1\n",
    "    return alist\n",
    "\n",
    "list3 = [1,2,3,4,5,6,7]\n",
    "twoPointers(list3)"
   ]
  },
  {
   "cell_type": "code",
   "execution_count": 44,
   "metadata": {},
   "outputs": [
    {
     "name": "stdout",
     "output_type": "stream",
     "text": [
      "[0, 3, 5, 6, 7, 7, 8, 9]\n",
      "[0, 3, 5, 6, 7, 7, 8]\n"
     ]
    }
   ],
   "source": [
    "l1 = [3,5,7,8]\n",
    "l2 = [0,6,7,9]\n",
    "# my goal is to merge the two lists in sorted order\n",
    "newlist = sorted(list1+list2) #time complexity is worse than when we would use two pointers\n",
    "#in big O notation --> O(n*log(n)), worst case scenario for infinite number of inputs\n",
    "print(newlist)\n",
    "\n",
    "def pointy(list1,list2):  #O(n)\n",
    "    x = 0\n",
    "    y = 0\n",
    "    ans = []\n",
    "    while x < len(list1) and y < len(list2): #5 *n, but 5 times infinity is still infinity\n",
    "        if list1[x] < list2[y]:\n",
    "            ans.append(list1[x])\n",
    "            x +=1\n",
    "        else:\n",
    "            ans.append(list2[y])\n",
    "            y +=1\n",
    "    return(ans)\n",
    "\n",
    "print(pointy(l1,l2))"
   ]
  },
  {
   "cell_type": "code",
   "execution_count": 45,
   "metadata": {},
   "outputs": [],
   "source": [
    "# How do I tell what time complexity?\n",
    "# We don't care about anything other than exponential differences in our time complexity\n",
    "# Most Common Time Complexities:\n",
    "# O(1) - excellent\n",
    "# O(log(n)) - good\n",
    "# O(n) - fair\n",
    "# O(nLog(n)) - bad\n",
    "# O(n^2) - horrible\n",
    "# anything above quadratic time is really slow (more horrible)\n",
    "# O(n!)\n",
    "# O(n^n)\n",
    "\n",
    "# What takes what time?\n",
    "# Any loop through an iterable takes O(n)\n",
    "# Some operations such as removing from a list are O(n)\n",
    "# Checking for membership (if i in alist) in lists takes O(n)\n",
    "\n",
    "# Checking for membership (if i in collection) in sets and dictionaries takes O(1)\n",
    "\n",
    "# What about bad time complexity? Where does that come from?\n",
    "# Nesting\n",
    "# Having a O(n) or worse operation that occurs every time another O(n) or worse operation runs\n",
    "# Nested for loops\n",
    "# Removing inside a for loop\n",
    "\n",
    "# Determine whether or not the amount of steps an operation takes scales with number of inputs\n",
    "# Determine whether or not a scaling operation occurs in full every time another operation steps\n",
    "\n",
    "# What about multiple loops that aren't nested?\n",
    "# Simplification!\n",
    "alist = list(range(1,11))\n",
    "for x in alist:\n",
    "    print(x)\n",
    "for x in alist:\n",
    "    print(x)\n",
    "#This would be O(3*n) since three O(n)s are running separately\n",
    "#O(3*n) = O(n) since 3 * infinity = infinity = n"
   ]
  },
  {
   "cell_type": "markdown",
   "metadata": {},
   "source": [
    "# Sorting Algorithms"
   ]
  },
  {
   "cell_type": "markdown",
   "metadata": {},
   "source": [
    "#### Bubble Sort\n",
    "\n",
    "Worst Case: O(n^2) Time - O(1) Space"
   ]
  },
  {
   "cell_type": "code",
   "execution_count": 54,
   "metadata": {},
   "outputs": [
    {
     "data": {
      "text/plain": [
       "[1, 3, 6, 9, 23, 56]"
      ]
     },
     "execution_count": 54,
     "metadata": {},
     "output_type": "execute_result"
    }
   ],
   "source": [
    "# Best case (sorted): O(n) linear because it goes through n during the for loop,\n",
    "# doesnt go through while loop for each n\n",
    "# Worse case (not sorted): O(n^2) because it goes through n during the for loop, \n",
    "# goes through n in the while loop\n",
    "\n",
    "#helper function, called within another function to make it easier to read\n",
    "def swap(i, j, array): \n",
    "    array[i],array[j] = array[j], array[i]\n",
    "    return array\n",
    "\n",
    "def bubbleSort(array):\n",
    "    isSorted = False\n",
    "    while not isSorted:\n",
    "        isSorted = True \n",
    "        #this won't make it break from while loop until it finishes running \n",
    "        #the while loop and goes back to the top to verify the value of isSorting\n",
    "        for i in range(len(array)-1):\n",
    "            if array[i] > array[i+1]:\n",
    "                swap(i, i+1, array)\n",
    "                isSorted = False\n",
    "    return array\n",
    "\n",
    "bubbleSort([23,1,56,3,6,9])"
   ]
  },
  {
   "cell_type": "markdown",
   "metadata": {},
   "source": [
    "##### Insertion Sort\n",
    "\n",
    "Worst Case: O(n^2) time - O(1)space"
   ]
  },
  {
   "cell_type": "code",
   "execution_count": 58,
   "metadata": {},
   "outputs": [
    {
     "data": {
      "text/plain": [
       "[1, 3, 6, 9, 23, 56]"
      ]
     },
     "execution_count": 58,
     "metadata": {},
     "output_type": "execute_result"
    }
   ],
   "source": [
    "def swap(x, y, array): \n",
    "    array[x],array[y] = array[y], array[x]\n",
    "    return array\n",
    "\n",
    "def insertionSort(array):\n",
    "    for i in range(1,len(array)):\n",
    "        j = i\n",
    "        while j > 0 and array[j] < array [j-1]:\n",
    "            swap(j,j-1,array)\n",
    "            j -= 1\n",
    "    return array\n",
    "\n",
    "insertionSort([23,1,56,3,6,9])"
   ]
  },
  {
   "cell_type": "markdown",
   "metadata": {},
   "source": [
    "## Merge Sort"
   ]
  },
  {
   "cell_type": "markdown",
   "metadata": {},
   "source": [
    "#### How it Works"
   ]
  },
  {
   "cell_type": "code",
   "execution_count": 65,
   "metadata": {},
   "outputs": [
    {
     "name": "stdout",
     "output_type": "stream",
     "text": [
      "Splitting... [6, 9, 2, 3, 6, 7]\n",
      "Splitting... [6, 9, 2]\n",
      "Splitting... [6]\n",
      "Splitting... [9, 2]\n",
      "Splitting... [9]\n",
      "Splitting... [2]\n",
      "Merging:  [2, 9]\n",
      "Merging:  [2, 6, 9]\n",
      "Splitting... [3, 6, 7]\n",
      "Splitting... [3]\n",
      "Splitting... [6, 7]\n",
      "Splitting... [6]\n",
      "Splitting... [7]\n",
      "Merging:  [6, 7]\n",
      "Merging:  [3, 6, 7]\n",
      "Merging:  [2, 3, 6, 6, 7, 9]\n"
     ]
    },
    {
     "data": {
      "text/plain": [
       "[2, 3, 6, 6, 7, 9]"
      ]
     },
     "execution_count": 65,
     "metadata": {},
     "output_type": "execute_result"
    }
   ],
   "source": [
    "#not the best best case but\n",
    "#has a better worst case scenario\n",
    "\n",
    "# Recursion\n",
    "# Step 1: Splitting everything up into its own group\n",
    "# Step 2: From left to right we're merging two groups together\n",
    "# Step 3: While we merge, pull items into correct order\n",
    "# Step 4: Repeat 2/3/4 until we just have the one big list again\n",
    "\n",
    "def mergeSort(alist):\n",
    "    print(\"Splitting...\", alist)\n",
    "    \n",
    "    #step1\n",
    "    if len(alist) > 1:\n",
    "        mid = len(alist)//2\n",
    "        lefthalf = alist[:mid]\n",
    "        righthalf = alist[mid:]\n",
    "        \n",
    "        #recursive call\n",
    "        mergeSort(lefthalf)\n",
    "        mergeSort(righthalf)\n",
    "        \n",
    "        #index pointers\n",
    "        i = 0 #left pointer\n",
    "        j = 0 #right pointer\n",
    "        k = 0 #main array pointer\n",
    "        \n",
    "        #step3: compares number in one group with the other group. the smaller number is added to the main list.\n",
    "        while i < len(lefthalf) and j < len(righthalf):\n",
    "            if lefthalf[i] < righthalf[j]:\n",
    "                alist[k] = lefthalf[i]\n",
    "                i += 1\n",
    "            else:\n",
    "                alist[k] = righthalf[j]\n",
    "                j += 1\n",
    "            k += 1\n",
    "            \n",
    "        #step3: any remaining items in either of the list that wasn't completely iterated through will be placed in the main list.\n",
    "        while i < len(lefthalf):\n",
    "            alist[k] = lefthalf[i]\n",
    "            i += 1\n",
    "            k += 1\n",
    "        while j < len(righthalf):\n",
    "            alist[k] = righthalf[j]\n",
    "            j += 1\n",
    "            k += 1\n",
    "        print(\"Merging: \",alist)\n",
    "        return alist\n",
    "\n",
    "mergeSort([6,9,2,3,6,7])"
   ]
  },
  {
   "cell_type": "markdown",
   "metadata": {},
   "source": [
    "# Binary Search\n",
    "\n",
    "The Binary Search algorithm works by finding the number in the middle of a given array and comparing it to the target. Given that the array is sorted\n",
    "\n",
    "* The worst case run time for this algorithm is `O(log(n))`"
   ]
  },
  {
   "cell_type": "code",
   "execution_count": 80,
   "metadata": {},
   "outputs": [
    {
     "data": {
      "text/plain": [
       "'The index of 56 is 5. Yay.'"
      ]
     },
     "execution_count": 80,
     "metadata": {},
     "output_type": "execute_result"
    }
   ],
   "source": [
    "#the most efficient way to find a value in a sorted list\n",
    "#list aka array\n",
    "#dictionary aka hash table\n",
    "\n",
    "#smaller == left\n",
    "#greater == right\n",
    "\n",
    "#input array MUST be sorted!!!!\n",
    "\n",
    "def binarySearch(array,target):\n",
    "    left = 0\n",
    "    right = len(array)-1\n",
    "    while left <= right:\n",
    "        middle = (left + right)//2\n",
    "        potentialMatch = array[middle]\n",
    "        if target == potentialMatch:\n",
    "            return f'The index of {target} is {middle}. Yay.'\n",
    "        elif target  < potentialMatch:\n",
    "            right = middle-1\n",
    "        else:\n",
    "            left = middle + 1\n",
    "    return f\"It's not here dooddddd\"\n",
    "\n",
    "binarySearch([1, 3, 6, 9, 23, 56],56)"
   ]
  },
  {
   "cell_type": "markdown",
   "metadata": {},
   "source": [
    "# Exercises"
   ]
  },
  {
   "cell_type": "markdown",
   "metadata": {},
   "source": [
    "### Exercise #1 <br>\n",
    "<p>Reverse the list below in-place using an in-place algorithm.<br>For extra credit: Reverse the strings at the same time.</p>"
   ]
  },
  {
   "cell_type": "code",
   "execution_count": 2,
   "metadata": {},
   "outputs": [
    {
     "name": "stdout",
     "output_type": "stream",
     "text": [
      "['.', 'ecnetnes', 'a', 'si', 'siht']\n"
     ]
    }
   ],
   "source": [
    "words = ['this' , 'is', 'a', 'sentence', '.']\n",
    "\n",
    "def reverseme(listy):\n",
    "    listy = [x[::-1] for x in listy[::-1]]\n",
    "    return listy\n",
    "\n",
    "print(reverseme(words))"
   ]
  },
  {
   "cell_type": "markdown",
   "metadata": {},
   "source": [
    "### Exercise #2 <br>\n",
    "<p>Create a function that counts how many distinct words are in the string below, then outputs a dictionary with the words as the key and the value as the amount of times that word appears in the string.<br>Should output:<br>{'a': 5,<br>\n",
    " 'abstract': 1,<br>\n",
    " 'an': 3,<br>\n",
    " 'array': 2, ... etc...</p>"
   ]
  },
  {
   "cell_type": "code",
   "execution_count": 3,
   "metadata": {},
   "outputs": [
    {
     "name": "stdout",
     "output_type": "stream",
     "text": [
      "{'In': 1, 'computing': 1, 'a': 4, 'hash': 4, 'table': 2, 'map': 2, 'is': 1, 'data': 2, 'structure': 2, 'which': 2, 'implements': 1, 'an': 3, 'associative': 1, 'array': 2, 'abstract': 1, 'type': 1, 'that': 1, 'can': 2, 'keys': 1, 'to': 2, 'values': 1, 'A': 1, 'uses': 1, 'function': 1, 'compute': 1, 'index': 1, 'into': 1, 'of': 1, 'buckets': 1, 'or': 1, 'slots': 1, 'from': 1, 'the': 1, 'desired': 1, 'value': 1, 'be': 1, 'found': 1}\n"
     ]
    }
   ],
   "source": [
    "import re\n",
    "\n",
    "a_text = 'In computing, a hash table hash map is a data structure which implements an associative array abstract data type, a structure that can map keys to values. A hash table uses a hash function to compute an index into an array of buckets or slots from which the desired value can be found'\n",
    "\n",
    "def countme(stringy):\n",
    "    wordpat = re.compile(\"([\\w]+)\")\n",
    "    wordy = wordpat.findall(stringy)\n",
    "    wordict = {}\n",
    "    for word in wordy:\n",
    "        if word not in wordict.keys():\n",
    "            wordict[word] = 1\n",
    "        else:\n",
    "            wordict[word] += 1\n",
    "    return wordict\n",
    "\n",
    "print(countme(a_text))"
   ]
  },
  {
   "cell_type": "markdown",
   "metadata": {},
   "source": [
    "## Exercise #3\n",
    "\n",
    "Write a program to implement a Linear Search Algorithm. Also in a comment, write the Time Complexity of the following algorithm.\n",
    "\n",
    "#### Hint: Linear Searching will require searching a list for a given number. "
   ]
  },
  {
   "cell_type": "code",
   "execution_count": 4,
   "metadata": {},
   "outputs": [
    {
     "name": "stdout",
     "output_type": "stream",
     "text": [
      "2\n"
     ]
    }
   ],
   "source": [
    "# inputs: some list, some value to find in the list\n",
    "# output: the index which holds the value\n",
    "\n",
    "fruits = [\"mango\",\"orange\",\"apple\",\"pineapple\",\"guava\"]\n",
    "\n",
    "def linsearch(listy,value):\n",
    "    for item in listy:                      #O(n)\n",
    "        if item == value:                   #O(1)\n",
    "            return listy.index(item)        #O(n) for the .index method\n",
    "                                            #Total Time Complexity = O(n+n) = O(2n) = O(n)\n",
    "\n",
    "print(linsearch(fruits,\"apple\"))"
   ]
  }
 ],
 "metadata": {
  "kernelspec": {
   "display_name": "Python 3",
   "language": "python",
   "name": "python3"
  },
  "language_info": {
   "codemirror_mode": {
    "name": "ipython",
    "version": 3
   },
   "file_extension": ".py",
   "mimetype": "text/x-python",
   "name": "python",
   "nbconvert_exporter": "python",
   "pygments_lexer": "ipython3",
   "version": "3.8.5"
  }
 },
 "nbformat": 4,
 "nbformat_minor": 2
}
